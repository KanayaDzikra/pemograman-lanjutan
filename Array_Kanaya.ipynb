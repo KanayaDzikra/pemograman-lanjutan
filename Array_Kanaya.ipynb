{
  "nbformat": 4,
  "nbformat_minor": 0,
  "metadata": {
    "colab": {
      "provenance": [],
      "include_colab_link": true
    },
    "kernelspec": {
      "name": "python3",
      "display_name": "Python 3"
    },
    "language_info": {
      "name": "python"
    }
  },
  "cells": [
    {
      "cell_type": "markdown",
      "metadata": {
        "id": "view-in-github",
        "colab_type": "text"
      },
      "source": [
        "<a href=\"https://colab.research.google.com/github/KanayaDzikra/pemograman-lanjutan/blob/main/Array_Kanaya.ipynb\" target=\"_parent\"><img src=\"https://colab.research.google.com/assets/colab-badge.svg\" alt=\"Open In Colab\"/></a>"
      ]
    },
    {
      "cell_type": "markdown",
      "source": [
        "#**🖥️👩🏻‍💻PRAKTIKUM PEMROGRAMAN LANJUT🔥**\n",
        "##**Pertemuan (3) Array- Senin, 28 Oktober 2024**\n",
        "\n",
        "👤 Nama: Kanaya Dzikra Setiadi / NRP: 2C2230015 / Kelas: III/A Sains Data\n",
        "\n",
        "💬Deskripsi Pembahasan Materi Array:\n",
        "\n",
        "1.1.  Definisi Array\n",
        "\n",
        " * Array mendefinisikan sekumpulan (satu atau lebih) elemen bertype sama\n",
        "\n",
        "* Setiap elemen tersusun secara terurut (kontinu) dan dapat diakses dengan menggunakan indeks\n",
        "\n",
        "* Dalam Python, ada beberapa cara mendeklarasikan array dalam kuliah ini, array didefinisikan menggunakan collection type list\n",
        "\n",
        "1.2 Deklarasi Array dalam Python (1)\n",
        "\n",
        "Cara-1:\n",
        "\n",
        "Deklarasi variabel array sekaligus mendefinisikan isi array: <nama-var> = [<valo>, <val>, <val₂>, <val->]\n",
        "\n",
        "Deklarasi array dengan nama <nama-var> dengan ukuran n dengan elemen <valo>, <val,>, <val>, <val->\n",
        "\n",
        "* Type elemen tergantung pada nilai elemen yang diberikan\n",
        "\n",
        "* Elemen terurut berdasarkan indeks dari 0 s.d. n - 1.\n",
        "\n",
        "\n",
        "\n",
        "Jika belum diketahui nilai apa yang akan diberikan pada array, maka dapat diberikan suatu nilai default seragam terlebih dahulu\n",
        "\n",
        "* Contoh: Array berelemen integer: nilai elemen default = 0\n",
        "\n",
        "Cara-2: Mendeklarasikan array dan mengisi dengan nilai default:\n",
        "\n",
        "* Deklarasi array dengan nama <nama-var> dengan ukuran <n> dengan nilai setiap elemen <default-val>.i adalah variabel untuk loop pengisian nilai default ke tiap elemen array.\n",
        "\n",
        "- Type elemen tergantung pada type nilai <default-val>\n",
        "\n",
        "- Elemen terurut berdasarkan indeks dari 0 s.d. n - 1.\n",
        "\n",
        "1.4 Pemrosesan Sekuensial pada Array (1)\n",
        "\n",
        "Pemrosesan sekuensial pada array adalah memroses setiap elemen array mulai dari elemen pada indeks terkecil s.d. indeks terbesar dengan menggunakan pengulangan (loop)\n",
        "\n",
        "* Setiap elemen array diakses secara langsung dengan indeks\n",
        "\n",
        "* First element adalah elemen array dengan indeks terkecil\n",
        "\n",
        "Next element dicapai melalui suksesor indeks\n",
        "\n",
        "* Kondisi berhenti dicapai jika indeks yang diproses adalah indeks terbesar yang terdefinisi sebelumnya\n",
        "\n",
        "Array tidak kosong, artinya minimum memiliki 1 elemen\n",
        "\n",
        "\n",
        "\n"
      ],
      "metadata": {
        "id": "_bN6_LxQCJZT"
      }
    },
    {
      "cell_type": "markdown",
      "source": [
        "#🤸🏻‍♀️ EKSPLORASI PRIBADI DI KELAS ✨"
      ],
      "metadata": {
        "id": "N0U2Qjks8P9F"
      }
    },
    {
      "cell_type": "code",
      "execution_count": 6,
      "metadata": {
        "id": "itmMcxv88OIm",
        "colab": {
          "base_uri": "https://localhost:8080/"
        },
        "outputId": "ff2d8d4a-88c4-46c4-ed24-378a393ecc13"
      },
      "outputs": [
        {
          "output_type": "stream",
          "name": "stdout",
          "text": [
            "['Ford,Volvo,BMW']\n"
          ]
        }
      ],
      "source": [
        "cars = [\"Ford,\" \"Volvo,\" \"BMW\"]\n",
        "print(cars)"
      ]
    },
    {
      "cell_type": "code",
      "source": [
        "#mengembalikan jumlah elemen dalam cars array\n",
        "\n",
        "cars=[\"Ford\",\"Volvo\",\"BMW\"]\n",
        "x=len(cars)\n",
        "print(x)"
      ],
      "metadata": {
        "colab": {
          "base_uri": "https://localhost:8080/"
        },
        "id": "5_tpuv0dUzpv",
        "outputId": "51d4d2e3-0c2a-478d-9642-33ec50ee8384"
      },
      "execution_count": 20,
      "outputs": [
        {
          "output_type": "stream",
          "name": "stdout",
          "text": [
            "3\n"
          ]
        }
      ]
    },
    {
      "cell_type": "code",
      "source": [
        "#Tambahkan satu elemen lagi ke cars array\n",
        "\n",
        "cars=[\"Ford\",\"Volvo\",\"BMW\"]\n",
        "cars.append(\"Honda\")\n",
        "print(cars)"
      ],
      "metadata": {
        "colab": {
          "base_uri": "https://localhost:8080/"
        },
        "id": "Qc_HOSrLWRLa",
        "outputId": "df87fa79-e000-44d8-a3d4-add6a351d2f3"
      },
      "execution_count": 21,
      "outputs": [
        {
          "output_type": "stream",
          "name": "stdout",
          "text": [
            "['Ford', 'Volvo', 'BMW', 'Honda']\n"
          ]
        }
      ]
    },
    {
      "cell_type": "code",
      "source": [
        "#Hapus elemen kedua dari cars array\n",
        "\n",
        "cars=[\"Ford\",\"Volvo\",\"BMW\"]\n",
        "cars.pop(1)\n",
        "print(cars)"
      ],
      "metadata": {
        "colab": {
          "base_uri": "https://localhost:8080/"
        },
        "id": "UsIRx1lyWvM5",
        "outputId": "4f8c55f1-2123-4445-a555-839c9a60ed92"
      },
      "execution_count": 23,
      "outputs": [
        {
          "output_type": "stream",
          "name": "stdout",
          "text": [
            "['Ford', 'BMW']\n"
          ]
        }
      ]
    },
    {
      "cell_type": "code",
      "source": [],
      "metadata": {
        "id": "zBxewIGJevoJ"
      },
      "execution_count": null,
      "outputs": []
    },
    {
      "cell_type": "code",
      "source": [
        "#hapus elemen yang memiliki nilai \"Volvo\"\n",
        "\n",
        "cars=[\"Ford\", \"volvo\",\"BMW\"]\n",
        "cars.remove(\"volvo\")\n",
        "print(cars)"
      ],
      "metadata": {
        "colab": {
          "base_uri": "https://localhost:8080/"
        },
        "id": "uZ3rGQijXDgP",
        "outputId": "628ef332-e657-46ce-a019-2dbf40d05716"
      },
      "execution_count": 24,
      "outputs": [
        {
          "output_type": "stream",
          "name": "stdout",
          "text": [
            "['Ford', 'BMW']\n"
          ]
        }
      ]
    },
    {
      "cell_type": "markdown",
      "source": [
        "- Interpretasi coding:\n",
        "\n",
        "membuat list Ford, Volvo, BMW\n",
        "\n",
        "menghitung jumlah elemen dalam list\n",
        "\n",
        "menambahkan elemen baru asalnya 3 jadi 4\n",
        "\n",
        "menghapus elemen kedua dari list\n",
        "\n",
        "menghapus elemen volvo dari list\n",
        "- Interpretasi Hasil:\n",
        "\n",
        "['Ford,Volvo,BMW']\n",
        "\n",
        " 3\n",
        "\n",
        "  ['Ford', 'Volvo', 'BMW', 'Honda']\n",
        "  \n",
        "  ['Ford', 'BMW']\n",
        "  \n",
        "  ['Ford', 'BMW']"
      ],
      "metadata": {
        "id": "f1J9LJyv9-YC"
      }
    },
    {
      "cell_type": "markdown",
      "source": [
        "#🧠 LATIHAN SOAL DI KELAS ⏱️"
      ],
      "metadata": {
        "id": "KEGjH0_P9D1-"
      }
    },
    {
      "cell_type": "markdown",
      "source": [
        "Problem (1) Reverse"
      ],
      "metadata": {
        "id": "nt7-fY7s9PgC"
      }
    },
    {
      "cell_type": "code",
      "source": [
        "N = int(input(\"Masukkan N: \"))\n",
        "bilangan = []\n",
        "for i in range(N):\n",
        "  bilangan.append(int(input()))\n",
        "bilangan.reverse()\n",
        "print(bilangan)"
      ],
      "metadata": {
        "id": "h7si6sBj9Mr4",
        "colab": {
          "base_uri": "https://localhost:8080/"
        },
        "outputId": "4a2d6da9-b408-4963-c405-a8a5e0a25200"
      },
      "execution_count": 2,
      "outputs": [
        {
          "output_type": "stream",
          "name": "stdout",
          "text": [
            "Masukkan N: 5\n",
            "5\n",
            "2\n",
            "1\n",
            "6\n",
            "3\n",
            "[3, 6, 1, 2, 5]\n"
          ]
        }
      ]
    },
    {
      "cell_type": "markdown",
      "source": [
        "- Interpretasi coding:\n",
        "\n",
        "program meminta input angka N sebagai jumlah bilangan yang akan dimasukkan pengguna,kemudia program meminta deretan sesuai jumlah nilai N. kemudian nilai deret tersebut dibalik urutan elemennya.\n",
        "\n",
        "- Interpretasi Hasil:\n",
        "\n",
        "Masukkan N: 5\n",
        "\n",
        "5\n",
        "\n",
        "2\n",
        "\n",
        "1\n",
        "\n",
        "6\n",
        "\n",
        "3\n",
        "\n",
        "[3, 6, 1, 2, 5]"
      ],
      "metadata": {
        "id": "Wou8YKfJ9lvY"
      }
    },
    {
      "cell_type": "markdown",
      "source": [
        "Problem (2) Anagram"
      ],
      "metadata": {
        "id": "Eucg6DUK9fgA"
      }
    },
    {
      "cell_type": "code",
      "source": [
        "# Meminta input jumlah elemen dan elemen untuk A\n",
        "nA = int(input(\"Masukkan banyaknya elemen A: \"))\n",
        "A = [int(input(f\"Masukkan elemen A ke-{i+1}: \")) for i in range(nA)]\n",
        "\n",
        "# Meminta input jumlah elemen dan elemen untuk B\n",
        "nB = int(input(\"Masukkan banyaknya elemen B: \"))\n",
        "B = [int(input(f\"Masukkan elemen B ke-{i+1}: \")) for i in range(nB)]\n",
        "\n",
        "# Cek apakah A dan B memiliki jumlah elemen yang sama dan frekuensi elemen yang sama\n",
        "if nA == nB and sorted(A) == sorted(B):\n",
        "    print(\"B adalah anagram dari A\")\n",
        "else:\n",
        "    print(\"B bukan anagram dari A\")"
      ],
      "metadata": {
        "id": "9uWMEZpP9hlB",
        "colab": {
          "base_uri": "https://localhost:8080/"
        },
        "outputId": "6b390cec-3cf2-4432-fc5e-2677f81ee07e"
      },
      "execution_count": 3,
      "outputs": [
        {
          "output_type": "stream",
          "name": "stdout",
          "text": [
            "Masukkan banyaknya elemen A: 3\n",
            "Masukkan elemen A ke-1: 8\n",
            "Masukkan elemen A ke-2: 4\n",
            "Masukkan elemen A ke-3: 3\n",
            "Masukkan banyaknya elemen B: 3\n",
            "Masukkan elemen B ke-1: 4\n",
            "Masukkan elemen B ke-2: 8\n",
            "Masukkan elemen B ke-3: 3\n",
            "B adalah anagram dari A\n"
          ]
        }
      ]
    },
    {
      "cell_type": "code",
      "source": [
        "# Meminta input jumlah elemen dan elemen untuk A\n",
        "nA = int(input(\"Masukkan banyaknya elemen A: \"))\n",
        "A = [int(input(f\"Masukkan elemen A ke-{i+1}: \")) for i in range(nA)]\n",
        "\n",
        "# Meminta input jumlah elemen dan elemen untuk B\n",
        "nB = int(input(\"Masukkan banyaknya elemen B: \"))\n",
        "B = [int(input(f\"Masukkan elemen B ke-{i+1}: \")) for i in range(nB)]\n",
        "\n",
        "# Cek apakah A dan B memiliki jumlah elemen yang sama dan frekuensi elemen yang sama\n",
        "if nA == nB and sorted(A) == sorted(B):\n",
        "    print(\"B adalah anagram dari A\")\n",
        "else:\n",
        "    print(\"B bukan anagram dari A\")"
      ],
      "metadata": {
        "colab": {
          "base_uri": "https://localhost:8080/"
        },
        "id": "Nh7gJpwxSDqF",
        "outputId": "2377ec17-b9b9-469a-f34f-f89f24628573"
      },
      "execution_count": 4,
      "outputs": [
        {
          "output_type": "stream",
          "name": "stdout",
          "text": [
            "Masukkan banyaknya elemen A: 2\n",
            "Masukkan elemen A ke-1: 1\n",
            "Masukkan elemen A ke-2: 4\n",
            "Masukkan banyaknya elemen B: 2\n",
            "Masukkan elemen B ke-1: 1\n",
            "Masukkan elemen B ke-2: 5\n",
            "B bukan anagram dari A\n"
          ]
        }
      ]
    },
    {
      "cell_type": "markdown",
      "source": [
        "- Interpretasi coding:\n",
        "\n",
        "1. Program meminta pengguna memasukan jumlah elemen array A, yang disimpan di variabel nA\n",
        "2. Program meminta pengguna memasukan jumlah elemen array B, yang disimpan di variabel nB\n",
        "3. Mengecek dua kondisi\n",
        "-Apakah jumlah elemen A sama dengan jumlah elemen B. Jika nA tidak sama dengan nB, B otomatis bukan anagram dari A.\n",
        "\n",
        "-Jika kedua kondisi terpenuhi, program mencetak “B adalah anagram dari A”; jika tidak, program mencetak “B bukan anagram dari A”.\n",
        "- Interpretasi Hasil:\n",
        "\n",
        "-contoh 1\n",
        "\n",
        "Masukkan banyaknya elemen A: 3\n",
        "\n",
        "Masukkan elemen A ke-1: 8\n",
        "\n",
        "Masukkan elemen A ke-2: 4\n",
        "\n",
        "Masukkan elemen A ke-3: 3\n",
        "\n",
        "Masukkan banyaknya elemen B: 3\n",
        "\n",
        "Masukkan elemen B ke-1: 4\n",
        "\n",
        "Masukkan elemen B ke-2: 8\n",
        "\n",
        "Masukkan elemen B ke-3: 3\n",
        "\n",
        "B adalah anagram dari A\n",
        "\n",
        "\n",
        "-contoh 2\n",
        "Masukkan banyaknya elemen A: 2\n",
        "\n",
        "Masukkan elemen A ke-1: 1\n",
        "\n",
        "Masukkan elemen A ke-2: 4\n",
        "\n",
        "Masukkan banyaknya elemen B: 2\n",
        "\n",
        "Masukkan elemen B ke-1: 1\n",
        "\n",
        "Masukkan elemen B ke-2: 5\n",
        "\n",
        "B bukan anagram dari A"
      ],
      "metadata": {
        "id": "fM9Fo97_93Ni"
      }
    },
    {
      "cell_type": "markdown",
      "source": [
        "Program (3) Palindrom"
      ],
      "metadata": {
        "id": "epnqVi5xYoQW"
      }
    },
    {
      "cell_type": "code",
      "source": [
        "# Meminta input panjang string dan string itu sendiri\n",
        "n = int(input(\"Masukkan panjang string: \"))\n",
        "string = input(\"Masukkan string: \")\n",
        "\n",
        "# Memeriksa apakah string sama dengan versi terbaliknya\n",
        "if string == string[::-1]:\n",
        "    print(f\"{string} adalah palindrom\")\n",
        "else:\n",
        "    print(f\"{string} bukan palindrom\")"
      ],
      "metadata": {
        "colab": {
          "base_uri": "https://localhost:8080/"
        },
        "id": "I7uPTEyrYkuL",
        "outputId": "487fd851-872b-41e2-b829-d4cd3477c9a3"
      },
      "execution_count": 25,
      "outputs": [
        {
          "output_type": "stream",
          "name": "stdout",
          "text": [
            "Masukkan panjang string: 5\n",
            "Masukkan string: makan\n",
            "makan bukan palindrom\n"
          ]
        }
      ]
    },
    {
      "cell_type": "code",
      "source": [
        "# Meminta input panjang string dan string itu sendiri\n",
        "n = int(input(\"Masukkan panjang string: \"))\n",
        "string = input(\"Masukkan string: \")\n",
        "\n",
        "# Memeriksa apakah string sama dengan versi terbaliknya\n",
        "if string == string[::-1]:\n",
        "    print(f\"{string} adalah palindrom\")\n",
        "else:\n",
        "    print(f\"{string} bukan palindrom\")"
      ],
      "metadata": {
        "colab": {
          "base_uri": "https://localhost:8080/"
        },
        "id": "9Br3gP3qZKIj",
        "outputId": "44498f65-578e-4291-e267-41c54cea00af"
      },
      "execution_count": 26,
      "outputs": [
        {
          "output_type": "stream",
          "name": "stdout",
          "text": [
            "Masukkan panjang string: 10\n",
            "Masukkan string: kasurrusak\n",
            "kasurrusak adalah palindrom\n"
          ]
        }
      ]
    },
    {
      "cell_type": "code",
      "source": [
        "# Meminta input panjang string dan string itu sendiri\n",
        "n = int(input(\"Masukkan panjang string: \"))\n",
        "string = input(\"Masukkan string: \")\n",
        "\n",
        "# Memeriksa apakah string sama dengan versi terbaliknya\n",
        "if string == string[::-1]:\n",
        "    print(f\"{string} adalah palindrom\")\n",
        "else:\n",
        "    print(f\"{string} bukan palindrom\")"
      ],
      "metadata": {
        "colab": {
          "base_uri": "https://localhost:8080/"
        },
        "id": "VjshLxjwZRHk",
        "outputId": "12c107d2-c8da-4400-c958-7ff123e3aa03"
      },
      "execution_count": 27,
      "outputs": [
        {
          "output_type": "stream",
          "name": "stdout",
          "text": [
            "Masukkan panjang string: 3\n",
            "Masukkan string: apa\n",
            "apa adalah palindrom\n"
          ]
        }
      ]
    },
    {
      "cell_type": "markdown",
      "source": [
        "- Interpretasi coding :\n",
        "1.\tInput Data:\n",
        "\n",
        "\t•\tProgram meminta panjang string (untuk informasi saja) dan string itu sendiri, lalu menyimpan string dalam variabel string.\n",
        "\t2.\tPemeriksaan Palindrom:\n",
        "\n",
        "\t•\tProgram membandingkan string dengan versi terbaliknya string[::-1].\n",
        "\t•\tJika keduanya sama, program mencetak bahwa string adalah palindrom; jika berbeda, program mencetak bahwa string bukan palindrom.\n",
        "- Interpretasi Hasil\n",
        "\n",
        "Contoh Penggunaan:\n",
        "\t•\tJika input adalah “kasurrusak”, program akan mendeteksi “kasurrusak” sama dengan versi terbaliknya, sehingga mencetak bahwa itu adalah palindrom."
      ],
      "metadata": {
        "id": "UpmzcFPnZX5G"
      }
    },
    {
      "cell_type": "markdown",
      "source": [
        "#🏆 POST TEST 🎯"
      ],
      "metadata": {
        "id": "J_75vTSXKFGE"
      }
    },
    {
      "cell_type": "markdown",
      "source": [
        "Problem (1)"
      ],
      "metadata": {
        "id": "twhHfrqiKSfV"
      }
    },
    {
      "cell_type": "code",
      "source": [],
      "metadata": {
        "id": "hOI8Gls9KV05"
      },
      "execution_count": null,
      "outputs": []
    },
    {
      "cell_type": "markdown",
      "source": [
        "- Interpretasi coding:\n",
        "- Interpretasi hasil:"
      ],
      "metadata": {
        "id": "t9x---59KWVI"
      }
    },
    {
      "cell_type": "markdown",
      "source": [
        "📌Catatan:\n",
        "  - Notebook python ini dibuat untuk memudahkan temen-temen belajar ngoding dan pengumpulan tugas.\n",
        "  - Silakan download notebook ini lalu upload di Google Collab milik kalian agar format `pertemuan`, `topik pertemuan`,\n",
        "`tanggal`, `deskripsi pembahasan materi`, `baris coding` dan `interpretasi` bisa disesuaikan dengan kebutuhan teman-teman.\n",
        "\n",
        "  - Interpretasi coding dan hasil dimaksudkan agar teman-teman semakin memahami apa yang dipelajari.\n",
        "\n",
        "  - Deskripsi pembahasan materi dimaksudkan agar teman-teman semakin memahami apa fokus yang dipelajari.\n",
        "\n",
        "  - Tulisan di setiap sebelum baris code disebut `markdown`. Ada beberapa jenis simbol yang memudahkan kepenulisan `markdown` kita, yaitu seperti : untuk mengatur ukuran tulisan biasanya tulisan pada header menggunakan ini`#`, `##`, `###`, untuk membuat pointer menggunakan ini `-`, untuk membuat tulisan ter-highlight menggunakan ini *` `* , untuk short-cut membuat tulisan jadi **bold** gunakan ini `** **`, dan untuk *tulisan miring* gunakan ini `* *` .\n",
        "\n",
        "  - Semangat belajar! 🌟✨\n",
        "\n",
        "©️ LABORATORIUM SAINS DATA 2024"
      ],
      "metadata": {
        "id": "D-tRQnbQK69l"
      }
    }
  ]
}