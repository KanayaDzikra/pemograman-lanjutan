{
  "nbformat": 4,
  "nbformat_minor": 0,
  "metadata": {
    "colab": {
      "provenance": [],
      "authorship_tag": "ABX9TyPQCF/HNCNAOWwS3YmS3b7n",
      "include_colab_link": true
    },
    "kernelspec": {
      "name": "python3",
      "display_name": "Python 3"
    },
    "language_info": {
      "name": "python"
    }
  },
  "cells": [
    {
      "cell_type": "markdown",
      "metadata": {
        "id": "view-in-github",
        "colab_type": "text"
      },
      "source": [
        "<a href=\"https://colab.research.google.com/github/KanayaDzikra/pemograman-lanjutan/blob/main/KANAYA_LATSOL.ipynb\" target=\"_parent\"><img src=\"https://colab.research.google.com/assets/colab-badge.svg\" alt=\"Open In Colab\"/></a>"
      ]
    },
    {
      "cell_type": "markdown",
      "source": [
        "**Kanaya Dzikra Setiadi - 2C2230015**\n",
        "\n",
        "**Quiz**"
      ],
      "metadata": {
        "id": "WN3lLVrhOZny"
      }
    },
    {
      "cell_type": "markdown",
      "source": [
        "NOMOR 1"
      ],
      "metadata": {
        "id": "6ndpOK5tR9Ji"
      }
    },
    {
      "cell_type": "code",
      "execution_count": 38,
      "metadata": {
        "colab": {
          "base_uri": "https://localhost:8080/"
        },
        "id": "LHQVJkTbOUVH",
        "outputId": "6d3ebe16-372b-451a-ec07-fdde6400fa10"
      },
      "outputs": [
        {
          "output_type": "stream",
          "name": "stdout",
          "text": [
            "Masukkan berat badan atlit (kg)45\n",
            "Kelas: A\n"
          ]
        }
      ],
      "source": [
        "berat_badan=int(input(\"Masukkan berat badan atlit (kg)\"))\n",
        "\n",
        "if 45<= berat_badan <=50:\n",
        "  Kelas = \"A\"\n",
        "elif 50 <= berat_badan <= 55:\n",
        "  Kelas = \"B\"\n",
        "elif 55 <= berat_badan <= 60:\n",
        "  Kelas = \"C\"\n",
        "elif 60 <= berat_badan <= 65:\n",
        "  Kelas = \"D\"\n",
        "elif 65 <= berat_badan <= 70:\n",
        "  Kelas = \"E\"\n",
        "elif berat_badan > 70:\n",
        "  Kelas = \"F\"\n",
        "else:\n",
        "  Kelas = \"Tidak memenuhi kualifikasi\"\n",
        "\n",
        "print(\"Kelas:\", Kelas)"
      ]
    },
    {
      "cell_type": "code",
      "source": [
        "berat_badan=int(input(\"Masukkan berat badan atlit (kg)\"))\n",
        "\n",
        "if 45<= berat_badan <=50:\n",
        "  Kelas = \"A\"\n",
        "elif 50 <= berat_badan <= 55:\n",
        "  Kelas = \"B\"\n",
        "elif 55 <= berat_badan <= 60:\n",
        "  Kelas = \"C\"\n",
        "elif 60 <= berat_badan <= 65:\n",
        "  Kelas = \"D\"\n",
        "elif 65 <= berat_badan <= 70:\n",
        "  Kelas = \"E\"\n",
        "elif berat_badan > 70:\n",
        "  Kelas = \"F\"\n",
        "else:\n",
        "  Kelas = \"Tidak memenuhi kualifikasi\"\n",
        "\n",
        "print(\"Kelas:\", Kelas)"
      ],
      "metadata": {
        "colab": {
          "base_uri": "https://localhost:8080/"
        },
        "id": "TsWeIz0fR78n",
        "outputId": "6d58cab6-01e1-440f-c21f-855abbc45ec2"
      },
      "execution_count": 39,
      "outputs": [
        {
          "output_type": "stream",
          "name": "stdout",
          "text": [
            "Masukkan berat badan atlit (kg)65\n",
            "Kelas: D\n"
          ]
        }
      ]
    },
    {
      "cell_type": "markdown",
      "source": [
        "NOMOR 2"
      ],
      "metadata": {
        "id": "Tm8uBqAeSloL"
      }
    },
    {
      "cell_type": "code",
      "source": [
        "bilangan=int(input(\"Masukkan 3 digit angka\"))\n",
        "\n",
        "if 100 <= bilangan <= 999:\n",
        "  ratusan = bilangan// 100\n",
        "  puluhan = (bilangan % 100) // 10\n",
        "  satuan = bilangan % 100\n",
        "\n",
        "  jumlah = ratusan**3 + puluhan**3 + satuan**3\n",
        "\n",
        "  if jumlah == bilangan:\n",
        "    print(bilangan, \"adalah bilangan armstrong\")\n",
        "  else:\n",
        "    print(bilangan, \"bukan bilangan armstrong\")\n",
        "else:\n",
        "  print(\"Masukkan angka yang valid (3 digit).\")\n"
      ],
      "metadata": {
        "id": "D2l1eKjXSpL9",
        "colab": {
          "base_uri": "https://localhost:8080/"
        },
        "outputId": "d85cb92f-1a9f-4500-bb8f-0f28dc4f3ac2"
      },
      "execution_count": 40,
      "outputs": [
        {
          "output_type": "stream",
          "name": "stdout",
          "text": [
            "Masukkan 3 digit angka371\n",
            "371 bukan bilangan armstrong\n"
          ]
        }
      ]
    },
    {
      "cell_type": "markdown",
      "source": [
        "NOMOR 3"
      ],
      "metadata": {
        "id": "JbcR5PSRWnsk"
      }
    },
    {
      "cell_type": "code",
      "source": [
        "pi = 3.1416\n",
        "\n",
        "r = float(input(\"Masukkan jari-jari bola: \"))\n",
        "\n",
        "volume_bola = (4/3) * pi * (r ** 3)\n",
        "\n",
        "print(f\"Volume bola dengan jari-jari {r} adalah {volume_bola}\")"
      ],
      "metadata": {
        "colab": {
          "base_uri": "https://localhost:8080/"
        },
        "id": "s2pJyMAtXKJ9",
        "outputId": "36fc49ff-79ab-4759-b7ec-ffdeb1f89340"
      },
      "execution_count": 41,
      "outputs": [
        {
          "output_type": "stream",
          "name": "stdout",
          "text": [
            "Masukkan jari-jari bola: 29\n",
            "Volume bola dengan jari-jari 29.0 adalah 102160.64319999999\n"
          ]
        }
      ]
    },
    {
      "cell_type": "markdown",
      "source": [
        "NOMOR 4"
      ],
      "metadata": {
        "id": "56qHNlZzXVLA"
      }
    },
    {
      "cell_type": "code",
      "source": [
        "tinggi_valid = []\n",
        "\n",
        "maksimal_siswa = 100\n",
        "\n",
        "print(\"Masukkan tinggi siswa (cm), atau -999 untuk selesai:\")\n",
        "\n",
        "for _ in range(maksimal_siswa):\n",
        "    tinggi = int(input(\"Tinggi siswa: \"))\n",
        "\n",
        "    if tinggi == -999:\n",
        "        break\n",
        "\n",
        "    if 100 <= tinggi <= 200:\n",
        "        tinggi_valid.append(tinggi)\n",
        "    else:\n",
        "        print(f\"Tinggi {tinggi} cm tidak valid dan tidak akan dihitung.\")\n",
        "\n",
        "if len(tinggi_valid) > 0:\n",
        "    rata_rata = sum(tinggi_valid) / len(tinggi_valid)\n",
        "    print(f\"Rata-rata tinggi siswa: {rata_rata:.2f} cm\")\n",
        "else:\n",
        "    print(\"Tidak ada data valid untuk menghitung rata-rata.\")"
      ],
      "metadata": {
        "colab": {
          "base_uri": "https://localhost:8080/"
        },
        "id": "AyaS_RKCclWL",
        "outputId": "4999a4ee-35af-4e97-dcc5-452fc61a84a2"
      },
      "execution_count": 43,
      "outputs": [
        {
          "output_type": "stream",
          "name": "stdout",
          "text": [
            "Masukkan tinggi siswa (cm), atau -999 untuk selesai:\n",
            "Tinggi siswa: 120\n",
            "Tinggi siswa: 145\n",
            "Tinggi siswa: 150\n",
            "Tinggi siswa: -999\n",
            "Rata-rata tinggi siswa: 138.33 cm\n"
          ]
        }
      ]
    },
    {
      "cell_type": "markdown",
      "source": [
        "NOMOR 5"
      ],
      "metadata": {
        "id": "a7KubUo1dkIA"
      }
    },
    {
      "cell_type": "code",
      "source": [
        "def hitung nilai akhir(nilai_pratikum, nilai_uts, nilai_uas):\n",
        "  nilai_akhir = 0.2 * nilai_pratikum + 0.3 * nilai_uts + 0.5 * nilai_uas\n",
        "  return nilai_akhir\n",
        "\n",
        "def tentukan indeks(nilai_akhir):\n",
        "    if nilai_akhir >= 85:\n",
        "      indeks = \"A\"\n",
        "    elif nilai_akhir >= 75:\n",
        "      indeks = \"AB\"\n",
        "    elif nilai_akhir >= 70:\n",
        "      indeks = \"B\"\n",
        "    elif nilai_akhir >= 60:\n",
        "      indeks = \"BC\"\n",
        "    elif nilai_akhir >= 50:\n",
        "      indeks = \"C\"\n",
        "    elif nilai_akhir >= 40:\n",
        "      indeks = \"D\"\n",
        "    else:\n",
        "      indeks = \"E\"\n",
        "\n",
        "n=int(input(\"masukkan jumlah mahasiswa\"))\n",
        "\n",
        "data_mahasiswa=[]\n",
        "\n",
        "for i in range (n):\n",
        "  nama=input(\"masukkan nama mahasiswa\")\n",
        "  nilai_pratikum=int(input(\"masukkan nilai pratikum\"))\n",
        "  nilai_uts=int(input(\"masukkan nilai uts\"))\n",
        "  nilai_uas=int(input(\"masukkan nilai uas\"))\n",
        "\n",
        "  nilai_akhir=hitung nilai akhir(nilai_pratikum, nilai_uts, nilai_uas)\n",
        "  indeks=tentukan indeks(nilai_akhir)\n",
        "\n",
        "  data_mahasiswa.append([nama, nilai_pratikum, nilai_uts, nilai_uas, nilai_akhir, indeks])\n",
        "print(\"\\nDaftar Nilai Mahasiswa:\")"
      ],
      "metadata": {
        "colab": {
          "base_uri": "https://localhost:8080/",
          "height": 106
        },
        "id": "wT6pz_1rdpOK",
        "outputId": "a928fe0b-16e7-4b1f-ad1f-47264234b507"
      },
      "execution_count": 45,
      "outputs": [
        {
          "output_type": "error",
          "ename": "SyntaxError",
          "evalue": "invalid syntax (<ipython-input-45-7a9a9cf89da1>, line 1)",
          "traceback": [
            "\u001b[0;36m  File \u001b[0;32m\"<ipython-input-45-7a9a9cf89da1>\"\u001b[0;36m, line \u001b[0;32m1\u001b[0m\n\u001b[0;31m    def hitung nilai akhir(nilai_pratikum, nilai_uts, nilai_uas):\u001b[0m\n\u001b[0m               ^\u001b[0m\n\u001b[0;31mSyntaxError\u001b[0m\u001b[0;31m:\u001b[0m invalid syntax\n"
          ]
        }
      ]
    },
    {
      "cell_type": "code",
      "source": [
        "def hitung_nilai_akhir(nilai_praktikum, nilai_uts, nilai_uas):\n",
        "    return 0.2 * nilai_praktikum + 0.4 * nilai_uts + 0.4 * nilai_uas\n",
        "\n",
        "def tentukan_indeks(nilai_akhir):\n",
        "    if nilai_akhir >= 85:\n",
        "        return 'A'\n",
        "    elif nilai_akhir >= 75:\n",
        "        return 'AB'\n",
        "    elif nilai_akhir >= 70:\n",
        "        return 'B'\n",
        "    elif nilai_akhir >= 60:\n",
        "        return 'BC'\n",
        "    elif nilai_akhir >= 50:\n",
        "        return 'C'\n",
        "    elif nilai_akhir >= 40:\n",
        "        return 'D'\n",
        "    else:\n",
        "        return 'E'\n",
        "\n",
        "n = int(input(\"Masukkan jumlah mahasiswa: \"))\n",
        "\n",
        "data_mahasiswa = []\n",
        "\n",
        "for i in range(n):\n",
        "    nama = input(\"Masukkan nama mahasiswa: \")\n",
        "    nilai_praktikum = int(input(\"Masukkan nilai praktikum: \"))\n",
        "    nilai_uts = int(input(\"Masukkan nilai UTS: \"))\n",
        "    nilai_uas = int(input(\"Masukkan nilai UAS: \"))\n",
        "\n",
        "    nilai_akhir = hitung_nilai_akhir(nilai_praktikum, nilai_uts, nilai_uas)\n",
        "    indeks = tentukan_indeks(nilai_akhir)\n",
        "\n",
        "    data_mahasiswa.append([nama, nilai_praktikum, nilai_uts, nilai_uas, nilai_akhir, indeks])\n",
        "\n",
        "\n",
        "print(\"----------------------------------------------\")\n",
        "for mahasiswa in data_mahasiswa:\n",
        "    print(f\"{mahasiswa[0]:<5} | {mahasiswa[1]:<10} | {mahasiswa[2]:<3} | {mahasiswa[3]:<3} | {mahasiswa[4]:<5.2f} | {mahasiswa[5]}\")"
      ],
      "metadata": {
        "colab": {
          "base_uri": "https://localhost:8080/"
        },
        "id": "07J2daJ5gWeF",
        "outputId": "e188c302-750f-4494-fdd0-ee2151f63656"
      },
      "execution_count": 52,
      "outputs": [
        {
          "output_type": "stream",
          "name": "stdout",
          "text": [
            "Masukkan jumlah mahasiswa: 2\n",
            "Masukkan nama mahasiswa: udin\n",
            "Masukkan nilai praktikum: 50\n",
            "Masukkan nilai UTS: 70\n",
            "Masukkan nilai UAS: 50\n",
            "Masukkan nama mahasiswa: asep\n",
            "Masukkan nilai praktikum: 90\n",
            "Masukkan nilai UTS: 70\n",
            "Masukkan nilai UAS: 50\n",
            "----------------------------------------------\n",
            "udin  | 50         | 70  | 50  | 58.00 | C\n",
            "asep  | 90         | 70  | 50  | 66.00 | BC\n"
          ]
        }
      ]
    }
  ]
}