{
  "nbformat": 4,
  "nbformat_minor": 0,
  "metadata": {
    "colab": {
      "provenance": [],
      "authorship_tag": "ABX9TyPKUccIxQuUm1hQHTFOISzx",
      "include_colab_link": true
    },
    "kernelspec": {
      "name": "python3",
      "display_name": "Python 3"
    },
    "language_info": {
      "name": "python"
    }
  },
  "cells": [
    {
      "cell_type": "markdown",
      "metadata": {
        "id": "view-in-github",
        "colab_type": "text"
      },
      "source": [
        "<a href=\"https://colab.research.google.com/github/KanayaDzikra/pemograman-lanjutan/blob/main/Tugas_Perulangan.ipynb\" target=\"_parent\"><img src=\"https://colab.research.google.com/assets/colab-badge.svg\" alt=\"Open In Colab\"/></a>"
      ]
    },
    {
      "cell_type": "markdown",
      "source": [
        "TUGAS 1\n",
        "\n",
        "Buat flowchart dari contoh-3 dan jelas kan kenapa kasus pada contoh-3\n",
        "menggunakan while bukannya for\n",
        "\n",
        "![image.png](data:image/png;base64,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)"
      ],
      "metadata": {
        "id": "l1s9BPguT42j"
      }
    },
    {
      "cell_type": "markdown",
      "source": [
        "Penggunaan while dalam kasus ini lebih tepat dibandingkan for karena jumlah iterasi tidak diketahui sebelumnya. Dalam program ini, pengguna bisa memasukkan berapa saja jumlah angka hingga ia mengakhiri input dengan -999. Kondisi ini cocok menggunakan while, karena while akan terus berjalan selama kondisinya terpenuhi, yaitu selama X != -999.\n",
        "\n",
        "Jika menggunakan for, biasanya kita perlu menentukan batas iterasi di awal, yang tidak sesuai dengan kasus di mana input bisa berjumlah tak tentu seperti ini."
      ],
      "metadata": {
        "id": "FrmrIf2nUuM8"
      }
    },
    {
      "cell_type": "markdown",
      "source": [
        "TUGAS 2\n",
        "\n",
        "Buatlah algoritma/program yang membaca sebuah nilai integer positif, misalnya N, dan\n",
        "menjumlahkan (serta menampilkan) semua bilangan kelipatan 5 antara 1 s.d. N."
      ],
      "metadata": {
        "id": "w5ZnmYkxVXjV"
      }
    },
    {
      "cell_type": "code",
      "source": [
        "# Meminta input dari pengguna\n",
        "N = int(input(\"Masukkan nilai N: \"))\n",
        "\n",
        "# Inisialisasi total\n",
        "total = 0\n",
        "\n",
        "# Loop untuk menghitung kelipatan 5\n",
        "for i in range(1, N + 1):\n",
        "    if i % 5 == 0:\n",
        "        total += i\n",
        "\n",
        "# Menampilkan hasil\n",
        "print(\"Jumlah bilangan kelipatan 5 antara 1 hingga\", N, \"adalah:\", total)"
      ],
      "metadata": {
        "colab": {
          "base_uri": "https://localhost:8080/"
        },
        "id": "THOb5vcdVg-H",
        "outputId": "6e0633b9-2d63-4bf5-e876-b06567b4f857"
      },
      "execution_count": 1,
      "outputs": [
        {
          "output_type": "stream",
          "name": "stdout",
          "text": [
            "Masukkan nilai N: 5\n",
            "Jumlah bilangan kelipatan 5 antara 1 hingga 5 adalah: 5\n"
          ]
        }
      ]
    },
    {
      "cell_type": "code",
      "source": [
        "# Meminta input dari pengguna\n",
        "N = int(input(\"Masukkan nilai N: \"))\n",
        "\n",
        "# Inisialisasi total\n",
        "total = 0\n",
        "\n",
        "# Loop untuk menghitung kelipatan 5\n",
        "for i in range(1, N + 1):\n",
        "    if i % 5 == 0:\n",
        "        total += i\n",
        "\n",
        "# Menampilkan hasil\n",
        "print(\"Jumlah bilangan kelipatan 5 antara 1 hingga\", N, \"adalah:\", total)"
      ],
      "metadata": {
        "colab": {
          "base_uri": "https://localhost:8080/"
        },
        "id": "yF67p-RVV5YU",
        "outputId": "0c57b10b-6b51-451f-88cc-1facf3b2831f"
      },
      "execution_count": 2,
      "outputs": [
        {
          "output_type": "stream",
          "name": "stdout",
          "text": [
            "Masukkan nilai N: 26\n",
            "Jumlah bilangan kelipatan 5 antara 1 hingga 26 adalah: 75\n"
          ]
        }
      ]
    },
    {
      "cell_type": "code",
      "source": [
        "# Meminta input dari pengguna\n",
        "N = int(input(\"Masukkan nilai N: \"))\n",
        "\n",
        "# Inisialisasi total\n",
        "total = 0\n",
        "\n",
        "# Loop untuk menghitung kelipatan 5\n",
        "for i in range(1, N + 1):\n",
        "    if i % 5 == 0:\n",
        "        total += i\n",
        "\n",
        "# Menampilkan hasil\n",
        "print(\"Jumlah bilangan kelipatan 5 antara 1 hingga\", N, \"adalah:\", total)"
      ],
      "metadata": {
        "colab": {
          "base_uri": "https://localhost:8080/"
        },
        "id": "PPlvqrzoWJLA",
        "outputId": "f3e99651-cceb-4c99-e4f5-abc0a473b35d"
      },
      "execution_count": 3,
      "outputs": [
        {
          "output_type": "stream",
          "name": "stdout",
          "text": [
            "Masukkan nilai N: 4\n",
            "Jumlah bilangan kelipatan 5 antara 1 hingga 4 adalah: 0\n"
          ]
        }
      ]
    },
    {
      "cell_type": "markdown",
      "source": [
        "TUGAS 3\n",
        "\n",
        "Buatlah 3 versi program yang menerima masukan sebuah integer positif, misalnya N (asumsi\n",
        "N>0), dan menuliskan lirik lagu Anak Ayam di atas dengan menggunakan perulangan for dan\n",
        "while."
      ],
      "metadata": {
        "id": "bop7lFCiVabw"
      }
    },
    {
      "cell_type": "markdown",
      "source": [
        "**Versi 1: Menggunakan Perulangan for**"
      ],
      "metadata": {
        "id": "wFMrKD-gXAi4"
      }
    },
    {
      "cell_type": "code",
      "source": [
        "N = int(input(\"Masukkan jumlah anak ayam (N): \"))\n",
        "\n",
        "for i in range(N, 0, -1):\n",
        "    if i > 1:\n",
        "        print(f\"Anak ayam turunlah {i}, mati satu tinggallah {i - 1}\")\n",
        "    else:\n",
        "        print(\"Anak ayam turunlah 1, mati satu tinggallah induknya\")"
      ],
      "metadata": {
        "colab": {
          "base_uri": "https://localhost:8080/"
        },
        "id": "rciXXcIGWgVK",
        "outputId": "43bb1d89-8035-4709-ce85-1d7161a4568c"
      },
      "execution_count": 5,
      "outputs": [
        {
          "output_type": "stream",
          "name": "stdout",
          "text": [
            "Masukkan jumlah anak ayam (N): 5\n",
            "Anak ayam turunlah 5, mati satu tinggallah 4\n",
            "Anak ayam turunlah 4, mati satu tinggallah 3\n",
            "Anak ayam turunlah 3, mati satu tinggallah 2\n",
            "Anak ayam turunlah 2, mati satu tinggallah 1\n",
            "Anak ayam turunlah 1, mati satu tinggallah induknya\n"
          ]
        }
      ]
    },
    {
      "cell_type": "code",
      "source": [
        "N = int(input(\"Masukkan jumlah anak ayam (N): \"))\n",
        "\n",
        "for i in range(N, 0, -1):\n",
        "    if i > 1:\n",
        "        print(f\"Anak ayam turunlah {i}, mati satu tinggallah {i - 1}\")\n",
        "    else:\n",
        "        print(\"Anak ayam turunlah 1, mati satu tinggallah induknya\")"
      ],
      "metadata": {
        "colab": {
          "base_uri": "https://localhost:8080/"
        },
        "id": "ZxR0nV-1W8ye",
        "outputId": "e975caa8-1cea-4736-f087-099fe07b3c01"
      },
      "execution_count": 6,
      "outputs": [
        {
          "output_type": "stream",
          "name": "stdout",
          "text": [
            "Masukkan jumlah anak ayam (N): 1\n",
            "Anak ayam turunlah 1, mati satu tinggallah induknya\n"
          ]
        }
      ]
    },
    {
      "cell_type": "markdown",
      "source": [
        "**Versi 2: Menggunakan Perulangan while**"
      ],
      "metadata": {
        "id": "yBNGX-m7XQ-4"
      }
    },
    {
      "cell_type": "code",
      "source": [
        "N = int(input(\"Masukkan jumlah anak ayam (N): \"))\n",
        "\n",
        "while N > 0:\n",
        "    if N > 1:\n",
        "        print(f\"Anak ayam turunlah {N}, mati satu tinggallah {N - 1}\")\n",
        "    else:\n",
        "        print(\"Anak ayam turunlah 1, mati satu tinggallah induknya\")\n",
        "    N -= 1"
      ],
      "metadata": {
        "colab": {
          "base_uri": "https://localhost:8080/"
        },
        "id": "BiicBhI1XYhV",
        "outputId": "b560b912-6475-417c-83d5-77c12a2b831a"
      },
      "execution_count": 7,
      "outputs": [
        {
          "output_type": "stream",
          "name": "stdout",
          "text": [
            "Masukkan jumlah anak ayam (N): 5\n",
            "Anak ayam turunlah 5, mati satu tinggallah 4\n",
            "Anak ayam turunlah 4, mati satu tinggallah 3\n",
            "Anak ayam turunlah 3, mati satu tinggallah 2\n",
            "Anak ayam turunlah 2, mati satu tinggallah 1\n",
            "Anak ayam turunlah 1, mati satu tinggallah induknya\n"
          ]
        }
      ]
    },
    {
      "cell_type": "code",
      "source": [
        "N = int(input(\"Masukkan jumlah anak ayam (N): \"))\n",
        "\n",
        "while N > 0:\n",
        "    if N > 1:\n",
        "        print(f\"Anak ayam turunlah {N}, mati satu tinggallah {N - 1}\")\n",
        "    else:\n",
        "        print(\"Anak ayam turunlah 1, mati satu tinggallah induknya\")\n",
        "    N -= 1"
      ],
      "metadata": {
        "colab": {
          "base_uri": "https://localhost:8080/"
        },
        "id": "opy4kHVFXftY",
        "outputId": "a9d58237-268b-468d-8961-d15c9126150a"
      },
      "execution_count": 8,
      "outputs": [
        {
          "output_type": "stream",
          "name": "stdout",
          "text": [
            "Masukkan jumlah anak ayam (N): 1\n",
            "Anak ayam turunlah 1, mati satu tinggallah induknya\n"
          ]
        }
      ]
    },
    {
      "cell_type": "markdown",
      "source": [
        "**Versi 3: Kombinasi for dan if untuk kondisi spesifik**"
      ],
      "metadata": {
        "id": "5JwO5LKKXvP8"
      }
    },
    {
      "cell_type": "code",
      "source": [
        "N = int(input(\"Masukkan jumlah anak ayam (N): \"))\n",
        "\n",
        "for i in range(N, 0, -1):\n",
        "    print(f\"Anak ayam turunlah {i}\")\n",
        "    if i > 1:\n",
        "        print(f\"Mati satu tinggallah {i - 1}\")\n",
        "    else:\n",
        "        print(\"Mati satu tinggallah induknya\")"
      ],
      "metadata": {
        "colab": {
          "base_uri": "https://localhost:8080/"
        },
        "id": "Iz1MDW6eXxKH",
        "outputId": "ddfb3f0c-fc54-4865-a180-f34afaef3fab"
      },
      "execution_count": 9,
      "outputs": [
        {
          "output_type": "stream",
          "name": "stdout",
          "text": [
            "Masukkan jumlah anak ayam (N): 5\n",
            "Anak ayam turunlah 5\n",
            "Mati satu tinggallah 4\n",
            "Anak ayam turunlah 4\n",
            "Mati satu tinggallah 3\n",
            "Anak ayam turunlah 3\n",
            "Mati satu tinggallah 2\n",
            "Anak ayam turunlah 2\n",
            "Mati satu tinggallah 1\n",
            "Anak ayam turunlah 1\n",
            "Mati satu tinggallah induknya\n"
          ]
        }
      ]
    },
    {
      "cell_type": "code",
      "source": [
        "N = int(input(\"Masukkan jumlah anak ayam (N): \"))\n",
        "\n",
        "for i in range(N, 0, -1):\n",
        "    print(f\"Anak ayam turunlah {i}\")\n",
        "    if i > 1:\n",
        "        print(f\"Mati satu tinggallah {i - 1}\")\n",
        "    else:\n",
        "        print(\"Mati satu tinggallah induknya\")"
      ],
      "metadata": {
        "colab": {
          "base_uri": "https://localhost:8080/"
        },
        "id": "WFOihcxUX1m2",
        "outputId": "88857b34-9391-4072-9d00-bd02b8f1ced7"
      },
      "execution_count": 10,
      "outputs": [
        {
          "output_type": "stream",
          "name": "stdout",
          "text": [
            "Masukkan jumlah anak ayam (N): 1\n",
            "Anak ayam turunlah 1\n",
            "Mati satu tinggallah induknya\n"
          ]
        }
      ]
    }
  ]
}