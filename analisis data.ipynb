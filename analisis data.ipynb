{
 "cells": [
  {
   "cell_type": "code",
   "execution_count": 8,
   "metadata": {},
   "outputs": [
    {
     "name": "stdout",
     "output_type": "stream",
     "text": [
      "Requirement already satisfied: pandas in c:\\users\\tedi setiadi\\appdata\\local\\programs\\python\\python312\\lib\\site-packages (2.2.3)\n",
      "Requirement already satisfied: numpy>=1.26.0 in c:\\users\\tedi setiadi\\appdata\\local\\programs\\python\\python312\\lib\\site-packages (from pandas) (2.2.1)\n",
      "Requirement already satisfied: python-dateutil>=2.8.2 in c:\\users\\tedi setiadi\\appdata\\roaming\\python\\python312\\site-packages (from pandas) (2.9.0.post0)\n",
      "Requirement already satisfied: pytz>=2020.1 in c:\\users\\tedi setiadi\\appdata\\local\\programs\\python\\python312\\lib\\site-packages (from pandas) (2024.2)\n",
      "Requirement already satisfied: tzdata>=2022.7 in c:\\users\\tedi setiadi\\appdata\\local\\programs\\python\\python312\\lib\\site-packages (from pandas) (2024.2)\n",
      "Requirement already satisfied: six>=1.5 in c:\\users\\tedi setiadi\\appdata\\roaming\\python\\python312\\site-packages (from python-dateutil>=2.8.2->pandas) (1.17.0)\n"
     ]
    },
    {
     "name": "stderr",
     "output_type": "stream",
     "text": [
      "\n",
      "[notice] A new release of pip is available: 24.2 -> 24.3.1\n",
      "[notice] To update, run: python.exe -m pip install --upgrade pip\n"
     ]
    }
   ],
   "source": [
    "!pip install pandas\n",
    "import pandas as pd "
   ]
  },
  {
   "cell_type": "markdown",
   "metadata": {},
   "source": [
    "Membuat Dataframe"
   ]
  },
  {
   "cell_type": "code",
   "execution_count": 2,
   "metadata": {},
   "outputs": [],
   "source": [
    "import pandas as pd "
   ]
  },
  {
   "cell_type": "code",
   "execution_count": 8,
   "metadata": {},
   "outputs": [
    {
     "name": "stdout",
     "output_type": "stream",
     "text": [
      "   Tahun           Cakupan  Tingkat Inflasi\n",
      "0   2008      Kota Bandung            10.23\n",
      "1   2009  Prov. Jawa Barat             2.02\n",
      "2   2010          Nasional             4.53\n"
     ]
    }
   ],
   "source": [
    "data = {\n",
    "    'Tahun':[2008,2009,2010],\n",
    "    'Cakupan':['Kota Bandung', 'Prov. Jawa Barat', 'Nasional'],\n",
    "    'Tingkat Inflasi':[10.23, 2.02, 4.53]\n",
    "}\n",
    "\n",
    "df = pd.DataFrame(data)\n",
    "print(df)"
   ]
  },
  {
   "cell_type": "markdown",
   "metadata": {},
   "source": [
    "Membaca dan Menulis Data"
   ]
  },
  {
   "cell_type": "markdown",
   "metadata": {},
   "source": [
    "1. Membaca dataset"
   ]
  },
  {
   "cell_type": "code",
   "execution_count": 4,
   "metadata": {},
   "outputs": [
    {
     "data": {
      "text/html": [
       "<div>\n",
       "<style scoped>\n",
       "    .dataframe tbody tr th:only-of-type {\n",
       "        vertical-align: middle;\n",
       "    }\n",
       "\n",
       "    .dataframe tbody tr th {\n",
       "        vertical-align: top;\n",
       "    }\n",
       "\n",
       "    .dataframe thead th {\n",
       "        text-align: right;\n",
       "    }\n",
       "</style>\n",
       "<table border=\"1\" class=\"dataframe\">\n",
       "  <thead>\n",
       "    <tr style=\"text-align: right;\">\n",
       "      <th></th>\n",
       "      <th>nama</th>\n",
       "      <th>fakultas</th>\n",
       "      <th>nilai_mat</th>\n",
       "      <th>nilai_kim</th>\n",
       "      <th>nilai_fis</th>\n",
       "    </tr>\n",
       "  </thead>\n",
       "  <tbody>\n",
       "    <tr>\n",
       "      <th>0</th>\n",
       "      <td>Farhan Fathur Rahman</td>\n",
       "      <td>FMIPA</td>\n",
       "      <td>57.21</td>\n",
       "      <td>34.14</td>\n",
       "      <td>38.93</td>\n",
       "    </tr>\n",
       "    <tr>\n",
       "      <th>1</th>\n",
       "      <td>Steven Margono</td>\n",
       "      <td>FMIPA</td>\n",
       "      <td>67.43</td>\n",
       "      <td>51.50</td>\n",
       "      <td>57.20</td>\n",
       "    </tr>\n",
       "    <tr>\n",
       "      <th>2</th>\n",
       "      <td>Ryan Sentosa</td>\n",
       "      <td>SAPPK</td>\n",
       "      <td>90.62</td>\n",
       "      <td>37.38</td>\n",
       "      <td>40.73</td>\n",
       "    </tr>\n",
       "    <tr>\n",
       "      <th>3</th>\n",
       "      <td>Muhajah Babny Muslim</td>\n",
       "      <td>FMIPA</td>\n",
       "      <td>72.31</td>\n",
       "      <td>38.80</td>\n",
       "      <td>44.79</td>\n",
       "    </tr>\n",
       "    <tr>\n",
       "      <th>4</th>\n",
       "      <td>Alvin Natawiguna</td>\n",
       "      <td>FTSL</td>\n",
       "      <td>65.45</td>\n",
       "      <td>57.67</td>\n",
       "      <td>56.39</td>\n",
       "    </tr>\n",
       "    <tr>\n",
       "      <th>...</th>\n",
       "      <td>...</td>\n",
       "      <td>...</td>\n",
       "      <td>...</td>\n",
       "      <td>...</td>\n",
       "      <td>...</td>\n",
       "    </tr>\n",
       "    <tr>\n",
       "      <th>5130</th>\n",
       "      <td>Khoirrashif</td>\n",
       "      <td>SITHR</td>\n",
       "      <td>66.14</td>\n",
       "      <td>46.82</td>\n",
       "      <td>56.74</td>\n",
       "    </tr>\n",
       "    <tr>\n",
       "      <th>5131</th>\n",
       "      <td>Jefri Hendri Adriano</td>\n",
       "      <td>FTSL</td>\n",
       "      <td>53.68</td>\n",
       "      <td>34.74</td>\n",
       "      <td>33.76</td>\n",
       "    </tr>\n",
       "    <tr>\n",
       "      <th>5132</th>\n",
       "      <td>Iki Hidayat</td>\n",
       "      <td>FITB</td>\n",
       "      <td>69.63</td>\n",
       "      <td>35.04</td>\n",
       "      <td>37.65</td>\n",
       "    </tr>\n",
       "    <tr>\n",
       "      <th>5133</th>\n",
       "      <td>Muhammad Nashir Sitompul</td>\n",
       "      <td>FTI</td>\n",
       "      <td>79.69</td>\n",
       "      <td>39.06</td>\n",
       "      <td>50.17</td>\n",
       "    </tr>\n",
       "    <tr>\n",
       "      <th>5134</th>\n",
       "      <td>Billy Richardo Sagala</td>\n",
       "      <td>STEI</td>\n",
       "      <td>68.68</td>\n",
       "      <td>51.23</td>\n",
       "      <td>66.18</td>\n",
       "    </tr>\n",
       "  </tbody>\n",
       "</table>\n",
       "<p>5135 rows × 5 columns</p>\n",
       "</div>"
      ],
      "text/plain": [
       "                          nama fakultas  nilai_mat  nilai_kim  nilai_fis\n",
       "0         Farhan Fathur Rahman    FMIPA      57.21      34.14      38.93\n",
       "1               Steven Margono    FMIPA      67.43      51.50      57.20\n",
       "2                 Ryan Sentosa    SAPPK      90.62      37.38      40.73\n",
       "3         Muhajah Babny Muslim    FMIPA      72.31      38.80      44.79\n",
       "4             Alvin Natawiguna     FTSL      65.45      57.67      56.39\n",
       "...                        ...      ...        ...        ...        ...\n",
       "5130               Khoirrashif    SITHR      66.14      46.82      56.74\n",
       "5131      Jefri Hendri Adriano     FTSL      53.68      34.74      33.76\n",
       "5132               Iki Hidayat     FITB      69.63      35.04      37.65\n",
       "5133  Muhammad Nashir Sitompul      FTI      79.69      39.06      50.17\n",
       "5134     Billy Richardo Sagala     STEI      68.68      51.23      66.18\n",
       "\n",
       "[5135 rows x 5 columns]"
      ]
     },
     "execution_count": 4,
     "metadata": {},
     "output_type": "execute_result"
    }
   ],
   "source": [
    "df = pd.read_csv('C:/Users/Tedi Setiadi/Music/kanaya/semester 3/pemog/H05.csv')\n",
    "df"
   ]
  },
  {
   "cell_type": "code",
   "execution_count": 5,
   "metadata": {},
   "outputs": [],
   "source": [
    "df.to_csv('output.csv', index = False)"
   ]
  },
  {
   "cell_type": "code",
   "execution_count": null,
   "metadata": {},
   "outputs": [],
   "source": [
    "df.to_excel('output.xlsx', index = False)"
   ]
  },
  {
   "cell_type": "markdown",
   "metadata": {},
   "source": [
    "Mengakses Data"
   ]
  },
  {
   "cell_type": "code",
   "execution_count": 9,
   "metadata": {},
   "outputs": [
    {
     "name": "stdout",
     "output_type": "stream",
     "text": [
      "   Tahun       Cakupan  Tingkat Inflasi\n",
      "0   2008  Kota Bandung            10.23\n"
     ]
    }
   ],
   "source": [
    "filtered_data=df[df['Cakupan'] == 'Kota Bandung']\n",
    "print(filtered_data)"
   ]
  },
  {
   "cell_type": "markdown",
   "metadata": {},
   "source": [
    "Mengambil Ekstremum\n",
    "\n",
    "Ekstremum adalah nilai yang paling tinggi atau paling rendah. Contoh:"
   ]
  },
  {
   "cell_type": "code",
   "execution_count": 11,
   "metadata": {},
   "outputs": [],
   "source": [
    "max_inflasi = df['Tingkat Inflasi'].max()\n",
    "min_inflasi = df['Tingkat Inflasi'].min()"
   ]
  },
  {
   "cell_type": "markdown",
   "metadata": {},
   "source": [
    "Mengurutkan Data"
   ]
  },
  {
   "cell_type": "markdown",
   "metadata": {},
   "source": [
    "▪\tAscending:"
   ]
  },
  {
   "cell_type": "code",
   "execution_count": 24,
   "metadata": {},
   "outputs": [],
   "source": [
    "df_sorted = df.sort_values(by='Tingkat Inflasi', ascending=True)"
   ]
  },
  {
   "cell_type": "code",
   "execution_count": 25,
   "metadata": {},
   "outputs": [
    {
     "data": {
      "text/html": [
       "<div>\n",
       "<style scoped>\n",
       "    .dataframe tbody tr th:only-of-type {\n",
       "        vertical-align: middle;\n",
       "    }\n",
       "\n",
       "    .dataframe tbody tr th {\n",
       "        vertical-align: top;\n",
       "    }\n",
       "\n",
       "    .dataframe thead th {\n",
       "        text-align: right;\n",
       "    }\n",
       "</style>\n",
       "<table border=\"1\" class=\"dataframe\">\n",
       "  <thead>\n",
       "    <tr style=\"text-align: right;\">\n",
       "      <th></th>\n",
       "      <th>Tahun</th>\n",
       "      <th>Cakupan</th>\n",
       "      <th>Tingkat Inflasi</th>\n",
       "    </tr>\n",
       "  </thead>\n",
       "  <tbody>\n",
       "    <tr>\n",
       "      <th>1</th>\n",
       "      <td>2009</td>\n",
       "      <td>Prov. Jawa Barat</td>\n",
       "      <td>2.02</td>\n",
       "    </tr>\n",
       "    <tr>\n",
       "      <th>2</th>\n",
       "      <td>2010</td>\n",
       "      <td>Nasional</td>\n",
       "      <td>4.53</td>\n",
       "    </tr>\n",
       "    <tr>\n",
       "      <th>0</th>\n",
       "      <td>2008</td>\n",
       "      <td>Kota Bandung</td>\n",
       "      <td>10.23</td>\n",
       "    </tr>\n",
       "  </tbody>\n",
       "</table>\n",
       "</div>"
      ],
      "text/plain": [
       "   Tahun           Cakupan  Tingkat Inflasi\n",
       "1   2009  Prov. Jawa Barat             2.02\n",
       "2   2010          Nasional             4.53\n",
       "0   2008      Kota Bandung            10.23"
      ]
     },
     "execution_count": 25,
     "metadata": {},
     "output_type": "execute_result"
    }
   ],
   "source": [
    "df_sorted"
   ]
  },
  {
   "cell_type": "markdown",
   "metadata": {},
   "source": [
    "▪\tDescending:"
   ]
  },
  {
   "cell_type": "code",
   "execution_count": 26,
   "metadata": {},
   "outputs": [],
   "source": [
    "df_sorted = df.sort_values(by='Tingkat Inflasi', ascending=False)"
   ]
  },
  {
   "cell_type": "code",
   "execution_count": 27,
   "metadata": {},
   "outputs": [
    {
     "data": {
      "text/html": [
       "<div>\n",
       "<style scoped>\n",
       "    .dataframe tbody tr th:only-of-type {\n",
       "        vertical-align: middle;\n",
       "    }\n",
       "\n",
       "    .dataframe tbody tr th {\n",
       "        vertical-align: top;\n",
       "    }\n",
       "\n",
       "    .dataframe thead th {\n",
       "        text-align: right;\n",
       "    }\n",
       "</style>\n",
       "<table border=\"1\" class=\"dataframe\">\n",
       "  <thead>\n",
       "    <tr style=\"text-align: right;\">\n",
       "      <th></th>\n",
       "      <th>Tahun</th>\n",
       "      <th>Cakupan</th>\n",
       "      <th>Tingkat Inflasi</th>\n",
       "    </tr>\n",
       "  </thead>\n",
       "  <tbody>\n",
       "    <tr>\n",
       "      <th>0</th>\n",
       "      <td>2008</td>\n",
       "      <td>Kota Bandung</td>\n",
       "      <td>10.23</td>\n",
       "    </tr>\n",
       "    <tr>\n",
       "      <th>2</th>\n",
       "      <td>2010</td>\n",
       "      <td>Nasional</td>\n",
       "      <td>4.53</td>\n",
       "    </tr>\n",
       "    <tr>\n",
       "      <th>1</th>\n",
       "      <td>2009</td>\n",
       "      <td>Prov. Jawa Barat</td>\n",
       "      <td>2.02</td>\n",
       "    </tr>\n",
       "  </tbody>\n",
       "</table>\n",
       "</div>"
      ],
      "text/plain": [
       "   Tahun           Cakupan  Tingkat Inflasi\n",
       "0   2008      Kota Bandung            10.23\n",
       "2   2010          Nasional             4.53\n",
       "1   2009  Prov. Jawa Barat             2.02"
      ]
     },
     "execution_count": 27,
     "metadata": {},
     "output_type": "execute_result"
    }
   ],
   "source": [
    "df_sorted"
   ]
  },
  {
   "cell_type": "markdown",
   "metadata": {},
   "source": [
    "Tabel Frekuensi"
   ]
  },
  {
   "cell_type": "code",
   "execution_count": 17,
   "metadata": {},
   "outputs": [
    {
     "name": "stdout",
     "output_type": "stream",
     "text": [
      "Tahun\n",
      "2008    1\n",
      "2009    1\n",
      "2010    1\n",
      "Name: count, dtype: int64\n"
     ]
    }
   ],
   "source": [
    "frequency_table = df['Tahun'].value_counts()\n",
    "print(frequency_table)\n"
   ]
  },
  {
   "cell_type": "markdown",
   "metadata": {},
   "source": [
    "Menentukan Range"
   ]
  },
  {
   "cell_type": "code",
   "execution_count": 19,
   "metadata": {},
   "outputs": [],
   "source": [
    "range_inflasi = df['Tingkat Inflasi'].max() - df['Tingkat Inflasi'].min()"
   ]
  },
  {
   "cell_type": "markdown",
   "metadata": {},
   "source": [
    "Statistik Sederhana"
   ]
  },
  {
   "cell_type": "code",
   "execution_count": 20,
   "metadata": {},
   "outputs": [
    {
     "name": "stdout",
     "output_type": "stream",
     "text": [
      "        Tahun  Tingkat Inflasi\n",
      "count     3.0         3.000000\n",
      "mean   2009.0         5.593333\n",
      "std       1.0         4.207022\n",
      "min    2008.0         2.020000\n",
      "25%    2008.5         3.275000\n",
      "50%    2009.0         4.530000\n",
      "75%    2009.5         7.380000\n",
      "max    2010.0        10.230000\n"
     ]
    }
   ],
   "source": [
    "statistics = df.describe()\n",
    "print(statistics)"
   ]
  },
  {
   "cell_type": "markdown",
   "metadata": {},
   "source": [
    "Koefisien Korelasi"
   ]
  },
  {
   "cell_type": "code",
   "execution_count": 22,
   "metadata": {},
   "outputs": [
    {
     "name": "stdout",
     "output_type": "stream",
     "text": [
      "-0.6774388302247065\n"
     ]
    }
   ],
   "source": [
    "correlation = df['Tingkat Inflasi'].corr(df['Tahun'])\n",
    "print(correlation)"
   ]
  },
  {
   "cell_type": "markdown",
   "metadata": {},
   "source": [
    "Cara memaknai koefisien korelasi:\n",
    "\n",
    "▪\tSemakin mendekati 0, dua kolom tidak berkorelasi.\n",
    "\n",
    "▪\tSemakin mendekati 1, dua kolom berbanding lurus.\n",
    "\n",
    "▪\tSemakin mendekati -1, dua kolom berbanding terbalik.\n"
   ]
  },
  {
   "cell_type": "markdown",
   "metadata": {},
   "source": [
    "Latihan\n"
   ]
  },
  {
   "cell_type": "markdown",
   "metadata": {},
   "source": [
    "Problem 1"
   ]
  },
  {
   "cell_type": "code",
   "execution_count": 4,
   "metadata": {},
   "outputs": [],
   "source": [
    "import pandas as pd"
   ]
  },
  {
   "cell_type": "code",
   "execution_count": 5,
   "metadata": {},
   "outputs": [
    {
     "data": {
      "text/html": [
       "<div>\n",
       "<style scoped>\n",
       "    .dataframe tbody tr th:only-of-type {\n",
       "        vertical-align: middle;\n",
       "    }\n",
       "\n",
       "    .dataframe tbody tr th {\n",
       "        vertical-align: top;\n",
       "    }\n",
       "\n",
       "    .dataframe thead th {\n",
       "        text-align: right;\n",
       "    }\n",
       "</style>\n",
       "<table border=\"1\" class=\"dataframe\">\n",
       "  <thead>\n",
       "    <tr style=\"text-align: right;\">\n",
       "      <th></th>\n",
       "      <th>nama</th>\n",
       "      <th>fakultas</th>\n",
       "      <th>nilai_mat</th>\n",
       "      <th>nilai_kim</th>\n",
       "      <th>nilai_fis</th>\n",
       "    </tr>\n",
       "  </thead>\n",
       "  <tbody>\n",
       "    <tr>\n",
       "      <th>0</th>\n",
       "      <td>Farhan Fathur Rahman</td>\n",
       "      <td>FMIPA</td>\n",
       "      <td>57.21</td>\n",
       "      <td>34.14</td>\n",
       "      <td>38.93</td>\n",
       "    </tr>\n",
       "    <tr>\n",
       "      <th>1</th>\n",
       "      <td>Steven Margono</td>\n",
       "      <td>FMIPA</td>\n",
       "      <td>67.43</td>\n",
       "      <td>51.50</td>\n",
       "      <td>57.20</td>\n",
       "    </tr>\n",
       "    <tr>\n",
       "      <th>2</th>\n",
       "      <td>Ryan Sentosa</td>\n",
       "      <td>SAPPK</td>\n",
       "      <td>90.62</td>\n",
       "      <td>37.38</td>\n",
       "      <td>40.73</td>\n",
       "    </tr>\n",
       "    <tr>\n",
       "      <th>3</th>\n",
       "      <td>Muhajah Babny Muslim</td>\n",
       "      <td>FMIPA</td>\n",
       "      <td>72.31</td>\n",
       "      <td>38.80</td>\n",
       "      <td>44.79</td>\n",
       "    </tr>\n",
       "    <tr>\n",
       "      <th>4</th>\n",
       "      <td>Alvin Natawiguna</td>\n",
       "      <td>FTSL</td>\n",
       "      <td>65.45</td>\n",
       "      <td>57.67</td>\n",
       "      <td>56.39</td>\n",
       "    </tr>\n",
       "    <tr>\n",
       "      <th>...</th>\n",
       "      <td>...</td>\n",
       "      <td>...</td>\n",
       "      <td>...</td>\n",
       "      <td>...</td>\n",
       "      <td>...</td>\n",
       "    </tr>\n",
       "    <tr>\n",
       "      <th>5130</th>\n",
       "      <td>Khoirrashif</td>\n",
       "      <td>SITHR</td>\n",
       "      <td>66.14</td>\n",
       "      <td>46.82</td>\n",
       "      <td>56.74</td>\n",
       "    </tr>\n",
       "    <tr>\n",
       "      <th>5131</th>\n",
       "      <td>Jefri Hendri Adriano</td>\n",
       "      <td>FTSL</td>\n",
       "      <td>53.68</td>\n",
       "      <td>34.74</td>\n",
       "      <td>33.76</td>\n",
       "    </tr>\n",
       "    <tr>\n",
       "      <th>5132</th>\n",
       "      <td>Iki Hidayat</td>\n",
       "      <td>FITB</td>\n",
       "      <td>69.63</td>\n",
       "      <td>35.04</td>\n",
       "      <td>37.65</td>\n",
       "    </tr>\n",
       "    <tr>\n",
       "      <th>5133</th>\n",
       "      <td>Muhammad Nashir Sitompul</td>\n",
       "      <td>FTI</td>\n",
       "      <td>79.69</td>\n",
       "      <td>39.06</td>\n",
       "      <td>50.17</td>\n",
       "    </tr>\n",
       "    <tr>\n",
       "      <th>5134</th>\n",
       "      <td>Billy Richardo Sagala</td>\n",
       "      <td>STEI</td>\n",
       "      <td>68.68</td>\n",
       "      <td>51.23</td>\n",
       "      <td>66.18</td>\n",
       "    </tr>\n",
       "  </tbody>\n",
       "</table>\n",
       "<p>5135 rows × 5 columns</p>\n",
       "</div>"
      ],
      "text/plain": [
       "                          nama fakultas  nilai_mat  nilai_kim  nilai_fis\n",
       "0         Farhan Fathur Rahman    FMIPA      57.21      34.14      38.93\n",
       "1               Steven Margono    FMIPA      67.43      51.50      57.20\n",
       "2                 Ryan Sentosa    SAPPK      90.62      37.38      40.73\n",
       "3         Muhajah Babny Muslim    FMIPA      72.31      38.80      44.79\n",
       "4             Alvin Natawiguna     FTSL      65.45      57.67      56.39\n",
       "...                        ...      ...        ...        ...        ...\n",
       "5130               Khoirrashif    SITHR      66.14      46.82      56.74\n",
       "5131      Jefri Hendri Adriano     FTSL      53.68      34.74      33.76\n",
       "5132               Iki Hidayat     FITB      69.63      35.04      37.65\n",
       "5133  Muhammad Nashir Sitompul      FTI      79.69      39.06      50.17\n",
       "5134     Billy Richardo Sagala     STEI      68.68      51.23      66.18\n",
       "\n",
       "[5135 rows x 5 columns]"
      ]
     },
     "execution_count": 5,
     "metadata": {},
     "output_type": "execute_result"
    }
   ],
   "source": [
    "data = pd.read_csv('C:/Users/Tedi Setiadi/Music/kanaya/semester 3/pemog/H05.csv')\n",
    "data"
   ]
  },
  {
   "cell_type": "code",
   "execution_count": 11,
   "metadata": {},
   "outputs": [
    {
     "name": "stdout",
     "output_type": "stream",
     "text": [
      "Jumlah data: 5135\n"
     ]
    }
   ],
   "source": [
    "#Hitung banyaknya data\n",
    "jumlah_data = len(data)\n",
    "print(f\"Jumlah data: {jumlah_data}\")"
   ]
  },
  {
   "cell_type": "code",
   "execution_count": 10,
   "metadata": {},
   "outputs": [
    {
     "name": "stdout",
     "output_type": "stream",
     "text": [
      "\n",
      "10 data pertama:\n",
      "                             nama fakultas  nilai_mat  nilai_kim  nilai_fis\n",
      "0            Farhan Fathur Rahman    FMIPA      57.21      34.14      38.93\n",
      "1                  Steven Margono    FMIPA      67.43      51.50      57.20\n",
      "2                    Ryan Sentosa    SAPPK      90.62      37.38      40.73\n",
      "3            Muhajah Babny Muslim    FMIPA      72.31      38.80      44.79\n",
      "4                Alvin Natawiguna     FTSL      65.45      57.67      56.39\n",
      "5                   Sasti Safitri     FTSL      60.58      41.91      51.55\n",
      "6             Dani Yulianto Putra     FTSL      51.67      35.05      48.69\n",
      "7  Nabila Febitsukarizky Bunyamin     FTTM      71.66      67.61      69.75\n",
      "8             Ratna Siti Khodijah      FTI      73.06      59.16      59.48\n",
      "9                    Gita Partiwi     FTSL      69.57      38.84      48.17\n"
     ]
    }
   ],
   "source": [
    "#Tampilkan 10 data pertama\n",
    "print(\"\\n10 data pertama:\")\n",
    "print(data.head(10))"
   ]
  },
  {
   "cell_type": "code",
   "execution_count": 14,
   "metadata": {},
   "outputs": [
    {
     "name": "stdout",
     "output_type": "stream",
     "text": [
      "\n",
      "Data ke-50 sampai ke-60:\n",
      "                        nama fakultas  nilai_mat  nilai_kim  nilai_fis\n",
      "49      Alief Rizky Ramadhan    SITHS      84.59      42.44      40.48\n",
      "50      Arief Syakur Sutedjo     FTTM      84.40      61.21      73.91\n",
      "51         Fayi Raihan Saleh    FMIPA      60.62      32.57      42.34\n",
      "52          Erna Kristiawati      FTI      67.48      46.78      52.30\n",
      "53                    Albert    SAPPK      70.27      50.10      54.01\n",
      "54  M Jazztyan Indra Pradana     STEI      53.40      43.06      60.30\n",
      "55      Moch Ginanjar Busiri    FMIPA      74.29      38.44      49.15\n",
      "56              Aisya Tamara     FITB      71.49      35.86      37.41\n",
      "57        Tyas Arum Widayati    SAPPK      68.57      37.02      53.25\n",
      "58                Arif Saleh      FTI     100.00      59.79      55.33\n",
      "59     Windy Diwita Nisaekti      FTI      67.15      57.72      54.24\n"
     ]
    }
   ],
   "source": [
    "#Tampilkan data ke-50 sampai ke-60\n",
    "print(\"\\nData ke-50 sampai ke-60:\")\n",
    "print(data.iloc[49:60])  # Karena index dimulai dari 0"
   ]
  },
  {
   "cell_type": "code",
   "execution_count": 6,
   "metadata": {},
   "outputs": [
    {
     "name": "stdout",
     "output_type": "stream",
     "text": [
      "fakultas\n",
      "FTI      834\n",
      "STEI     777\n",
      "FTSL     660\n",
      "FMIPA    627\n",
      "FTTM     579\n",
      "FTMD     480\n",
      "FITB     403\n",
      "SAPPK    315\n",
      "SITHR    282\n",
      "SITHS    178\n",
      "Name: count, dtype: int64\n"
     ]
    }
   ],
   "source": [
    "#Hitung banyaknya mahasiswa di tiap fakultas\n",
    "jumlah_mahasiswa_per_fakultas = data['fakultas'].value_counts()\n",
    "print(jumlah_mahasiswa_per_fakultas)"
   ]
  },
  {
   "cell_type": "code",
   "execution_count": 10,
   "metadata": {},
   "outputs": [
    {
     "name": "stdout",
     "output_type": "stream",
     "text": [
      "0.7988187423880274\n"
     ]
    }
   ],
   "source": [
    "#Hitung nilai korelasi antara nilai fisika dan kimia \n",
    "correlation = data['nilai_fis'].corr(data['nilai_kim'])\n",
    "print(correlation)"
   ]
  },
  {
   "cell_type": "code",
   "execution_count": 11,
   "metadata": {},
   "outputs": [
    {
     "name": "stdout",
     "output_type": "stream",
     "text": [
      "Nilai korelasi antara Fisika dan Kimia: 0.7988187423880274\n",
      "Korelasi kuat dan lurus.\n"
     ]
    }
   ],
   "source": [
    "# Tentukan Jenis Korelasi\n",
    "korelasi = data['nilai_fis'].corr(data['nilai_kim'])\n",
    "\n",
    "print(\"Nilai korelasi antara Fisika dan Kimia:\", korelasi)\n",
    "if korelasi > 0.7:\n",
    "    print(\"Korelasi kuat dan lurus.\")\n",
    "elif korelasi < -0.7:\n",
    "    print(\"Korelasi kuat dan terbalik.\")\n",
    "elif -0.7 <= korelasi <= 0.7:\n",
    "    print(\"Tidak ada korelasi yang signifikan.\")"
   ]
  },
  {
   "cell_type": "markdown",
   "metadata": {},
   "source": [
    "Problem 2"
   ]
  },
  {
   "cell_type": "code",
   "execution_count": 13,
   "metadata": {},
   "outputs": [
    {
     "data": {
      "text/html": [
       "<div>\n",
       "<style scoped>\n",
       "    .dataframe tbody tr th:only-of-type {\n",
       "        vertical-align: middle;\n",
       "    }\n",
       "\n",
       "    .dataframe tbody tr th {\n",
       "        vertical-align: top;\n",
       "    }\n",
       "\n",
       "    .dataframe thead th {\n",
       "        text-align: right;\n",
       "    }\n",
       "</style>\n",
       "<table border=\"1\" class=\"dataframe\">\n",
       "  <thead>\n",
       "    <tr style=\"text-align: right;\">\n",
       "      <th></th>\n",
       "      <th>nama</th>\n",
       "      <th>fakultas</th>\n",
       "      <th>nilai_mat</th>\n",
       "      <th>nilai_kim</th>\n",
       "      <th>nilai_fis</th>\n",
       "    </tr>\n",
       "  </thead>\n",
       "  <tbody>\n",
       "    <tr>\n",
       "      <th>0</th>\n",
       "      <td>Farhan Fathur Rahman</td>\n",
       "      <td>FMIPA</td>\n",
       "      <td>57.21</td>\n",
       "      <td>34.14</td>\n",
       "      <td>38.93</td>\n",
       "    </tr>\n",
       "    <tr>\n",
       "      <th>1</th>\n",
       "      <td>Steven Margono</td>\n",
       "      <td>FMIPA</td>\n",
       "      <td>67.43</td>\n",
       "      <td>51.50</td>\n",
       "      <td>57.20</td>\n",
       "    </tr>\n",
       "    <tr>\n",
       "      <th>2</th>\n",
       "      <td>Ryan Sentosa</td>\n",
       "      <td>SAPPK</td>\n",
       "      <td>90.62</td>\n",
       "      <td>37.38</td>\n",
       "      <td>40.73</td>\n",
       "    </tr>\n",
       "    <tr>\n",
       "      <th>3</th>\n",
       "      <td>Muhajah Babny Muslim</td>\n",
       "      <td>FMIPA</td>\n",
       "      <td>72.31</td>\n",
       "      <td>38.80</td>\n",
       "      <td>44.79</td>\n",
       "    </tr>\n",
       "    <tr>\n",
       "      <th>4</th>\n",
       "      <td>Alvin Natawiguna</td>\n",
       "      <td>FTSL</td>\n",
       "      <td>65.45</td>\n",
       "      <td>57.67</td>\n",
       "      <td>56.39</td>\n",
       "    </tr>\n",
       "    <tr>\n",
       "      <th>...</th>\n",
       "      <td>...</td>\n",
       "      <td>...</td>\n",
       "      <td>...</td>\n",
       "      <td>...</td>\n",
       "      <td>...</td>\n",
       "    </tr>\n",
       "    <tr>\n",
       "      <th>5130</th>\n",
       "      <td>Khoirrashif</td>\n",
       "      <td>SITHR</td>\n",
       "      <td>66.14</td>\n",
       "      <td>46.82</td>\n",
       "      <td>56.74</td>\n",
       "    </tr>\n",
       "    <tr>\n",
       "      <th>5131</th>\n",
       "      <td>Jefri Hendri Adriano</td>\n",
       "      <td>FTSL</td>\n",
       "      <td>53.68</td>\n",
       "      <td>34.74</td>\n",
       "      <td>33.76</td>\n",
       "    </tr>\n",
       "    <tr>\n",
       "      <th>5132</th>\n",
       "      <td>Iki Hidayat</td>\n",
       "      <td>FITB</td>\n",
       "      <td>69.63</td>\n",
       "      <td>35.04</td>\n",
       "      <td>37.65</td>\n",
       "    </tr>\n",
       "    <tr>\n",
       "      <th>5133</th>\n",
       "      <td>Muhammad Nashir Sitompul</td>\n",
       "      <td>FTI</td>\n",
       "      <td>79.69</td>\n",
       "      <td>39.06</td>\n",
       "      <td>50.17</td>\n",
       "    </tr>\n",
       "    <tr>\n",
       "      <th>5134</th>\n",
       "      <td>Billy Richardo Sagala</td>\n",
       "      <td>STEI</td>\n",
       "      <td>68.68</td>\n",
       "      <td>51.23</td>\n",
       "      <td>66.18</td>\n",
       "    </tr>\n",
       "  </tbody>\n",
       "</table>\n",
       "<p>5135 rows × 5 columns</p>\n",
       "</div>"
      ],
      "text/plain": [
       "                          nama fakultas  nilai_mat  nilai_kim  nilai_fis\n",
       "0         Farhan Fathur Rahman    FMIPA      57.21      34.14      38.93\n",
       "1               Steven Margono    FMIPA      67.43      51.50      57.20\n",
       "2                 Ryan Sentosa    SAPPK      90.62      37.38      40.73\n",
       "3         Muhajah Babny Muslim    FMIPA      72.31      38.80      44.79\n",
       "4             Alvin Natawiguna     FTSL      65.45      57.67      56.39\n",
       "...                        ...      ...        ...        ...        ...\n",
       "5130               Khoirrashif    SITHR      66.14      46.82      56.74\n",
       "5131      Jefri Hendri Adriano     FTSL      53.68      34.74      33.76\n",
       "5132               Iki Hidayat     FITB      69.63      35.04      37.65\n",
       "5133  Muhammad Nashir Sitompul      FTI      79.69      39.06      50.17\n",
       "5134     Billy Richardo Sagala     STEI      68.68      51.23      66.18\n",
       "\n",
       "[5135 rows x 5 columns]"
      ]
     },
     "execution_count": 13,
     "metadata": {},
     "output_type": "execute_result"
    }
   ],
   "source": [
    "data = pd.read_csv('C:/Users/Tedi Setiadi/Music/kanaya/semester 3/pemog/H05.csv')\n",
    "data"
   ]
  },
  {
   "cell_type": "code",
   "execution_count": 25,
   "metadata": {},
   "outputs": [
    {
     "name": "stdout",
     "output_type": "stream",
     "text": [
      "\n",
      "Nilai Tuan Leo:\n",
      "     nilai_mat  nilai_kim  nilai_fis\n",
      "895      63.53      19.67      26.15\n"
     ]
    }
   ],
   "source": [
    "#Tampilkan nilai matematika, fisika, dan kimia milik Tuan Leo\n",
    "leo = data[data['nama'] == \"Leonardus Kevin\"]\n",
    "if not leo.empty:\n",
    "    print(\"\\nNilai Tuan Leo:\")\n",
    "    print(leo[['nilai_mat', 'nilai_kim', 'nilai_fis']])\n",
    "else:\n",
    "    print(\"\\nLeonardus Kevin tidak ditemukan.\")"
   ]
  },
  {
   "cell_type": "code",
   "execution_count": 19,
   "metadata": {},
   "outputs": [
    {
     "name": "stdout",
     "output_type": "stream",
     "text": [
      "\n",
      "Mahasiswa dengan nilai fisika tertinggi:\n",
      "                         nama fakultas  nilai_mat  nilai_kim  nilai_fis\n",
      "1936  Yuniar Fazriani Rusmana     FITB      53.61      67.19      92.57\n"
     ]
    }
   ],
   "source": [
    "#Cari mahasiswa dengan nilai fisika tertinggi\n",
    "fisika_tertinggi = data[data['nilai_fis'] == data['nilai_fis'].max()]\n",
    "print(\"\\nMahasiswa dengan nilai fisika tertinggi:\")\n",
    "print(fisika_tertinggi)"
   ]
  },
  {
   "cell_type": "code",
   "execution_count": 21,
   "metadata": {},
   "outputs": [
    {
     "name": "stdout",
     "output_type": "stream",
     "text": [
      "\n",
      "10 mahasiswa dengan nilai kimia tertinggi:\n",
      "                          nama fakultas  nilai_mat  nilai_kim  nilai_fis\n",
      "2554      Faathir Reza Avicena     FTSL      57.12      81.50      78.68\n",
      "2779      Dinda A A Z Mundakir     STEI      41.18      81.34      82.60\n",
      "3544        Tammya Ayu Purnomo    SITHS      74.49      81.20      78.58\n",
      "4934    Alyssa Nadhira Windari     FTMD      78.38      78.83      78.68\n",
      "1137          Izni Nur Ibrahim     STEI      56.70      78.46      84.34\n",
      "2262      Rinaldi Oky Setiawan     STEI      71.22      77.44      83.66\n",
      "4070      Ias Azhari Rezkyarno    FMIPA      62.85      76.90      81.52\n",
      "2945           Klara Petra T T     FTSL      73.39      76.61      78.12\n",
      "1788  Naudy Germanimo Laksmana     FTMD      62.29      76.38      76.15\n",
      "1310       Mardliyahtur Rohmah     STEI      63.15      76.36      74.06\n"
     ]
    }
   ],
   "source": [
    "#Tampilkan 10 mahasiswa dengan nilai kimia tertinggi\n",
    "kimia_tertinggi = data.nlargest(10, 'nilai_kim')\n",
    "print(\"\\n10 mahasiswa dengan nilai kimia tertinggi:\")\n",
    "print(kimia_tertinggi)"
   ]
  },
  {
   "cell_type": "code",
   "execution_count": 23,
   "metadata": {},
   "outputs": [
    {
     "name": "stdout",
     "output_type": "stream",
     "text": [
      "\n",
      "Banyaknya nilai matematika di bawah 50: 329\n"
     ]
    }
   ],
   "source": [
    "#Hitung banyaknya nilai matematika di bawah 50\n",
    "matematika_di_bawah_50 = len(data[data['nilai_mat'] < 50])\n",
    "print(f\"\\nBanyaknya nilai matematika di bawah 50: {matematika_di_bawah_50}\")\n"
   ]
  },
  {
   "cell_type": "code",
   "execution_count": 24,
   "metadata": {},
   "outputs": [
    {
     "name": "stdout",
     "output_type": "stream",
     "text": [
      "Banyaknya mahasiswa di FMIPA: 627\n"
     ]
    }
   ],
   "source": [
    "#Hitung banyaknya mahasiswa di FMIPA\n",
    "jumlah_fmipa = len(data[data['fakultas'] == \"FMIPA\"])\n",
    "print(f\"Banyaknya mahasiswa di FMIPA: {jumlah_fmipa}\")"
   ]
  }
 ],
 "metadata": {
  "kernelspec": {
   "display_name": "Python 3",
   "language": "python",
   "name": "python3"
  },
  "language_info": {
   "codemirror_mode": {
    "name": "ipython",
    "version": 3
   },
   "file_extension": ".py",
   "mimetype": "text/x-python",
   "name": "python",
   "nbconvert_exporter": "python",
   "pygments_lexer": "ipython3",
   "version": "3.12.7"
  }
 },
 "nbformat": 4,
 "nbformat_minor": 2
}
